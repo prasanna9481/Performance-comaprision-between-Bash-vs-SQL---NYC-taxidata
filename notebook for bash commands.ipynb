{
 "cells": [
  {
   "cell_type": "markdown",
   "id": "f1af8719-960e-47b9-8b4c-141ddedd9575",
   "metadata": {
    "deletable": false,
    "editable": false,
    "nbgrader": {
     "cell_type": "markdown",
     "checksum": "350b73f0bcf3d8e26dba43c50c01219a",
     "grade": false,
     "grade_id": "cell-9542ef82174abf9e",
     "locked": true,
     "schema_version": 3,
     "solution": false,
     "task": false
    }
   },
   "source": [
    "# Exercise 1: NYC Taxi Dataset Analysis with Unix Tools and SQL"
   ]
  },
  {
   "cell_type": "markdown",
   "id": "ee2a1896-7a75-42db-aa4a-482ccbb93b67",
   "metadata": {},
   "source": [
    "Your name: ___Prasanna Bhat___"
   ]
  },
  {
   "cell_type": "markdown",
   "id": "26c80f04-27b9-4c30-b54b-50c5653c11d4",
   "metadata": {
    "deletable": false,
    "editable": false,
    "nbgrader": {
     "cell_type": "markdown",
     "checksum": "12be71d92fed13911aa1cbcc6ed4707f",
     "grade": false,
     "grade_id": "cell-c2146894a75952c2",
     "locked": true,
     "schema_version": 3,
     "solution": false,
     "task": false
    }
   },
   "source": [
    "This assignment is split in three parts:\n",
    " 1. In the first part, we will analyze a large data set with UNIX tools.\n",
    " 2. Next, we will see how the analysis we did would be done in SQL.\n",
    " 3. Lastly, we included a refresher on more advanced SQL.\n",
    "\n",
    "### Introduction\n",
    "\n",
    "As you have seen in the lecture, **UNIX tools** are a handy way to quickly get some insights into data sets. They are **available on almost all systems and don't require any setup**, which is a huge advantage if you think about it! I still use the Unix tools we discussed almost every day.\n",
    "\n",
    "However, they will only get you so far. That's the reason why we will also look into other, **more practical and specialized** ways to analyze large data sets after the first half of the assignment. For **relational datasets**, like the one we have here, you would use some sort of database. **DuckDB** is especially suitable here because it is a very modern implementation and allows you to run queries directly on raw files without needing to import them into the database. This makes it very handy for this task. You will quickly realize how different and probably more straight-forward it will be. You can use the results from the second part to cross-check with your results from the first-part.\n",
    "\n",
    "Lastly, we will give you some tasks that require the use of more involved SQL features. This should serve as a refresher for you. If you never touched SQL, it might be a bit trickier, but surely not impossible! You can always reach out for help.\n",
    "\n",
    "### Assignment Structure\n",
    "We will use Jupyter notebooks throughout most of the exercises. The reason for this is that this tool is oftentimes used in the data science / data engineering space.\n",
    "\n",
    "Also, particularly in this assignment, we will use bash commands that we run from this notebook. We do this by marking the whole cell for executing with bash via the `%%bash` magic at the beginning. An alternative is to use `%bash` in front of a single line or use `!` followed by the command.\n",
    "The same applies for SQL code. In this code, we will use the so-called sql \"line magic\", that is, after setting up the proper config, you can run SQL in DuckDB by just starting a line with `%sql` followed by the SQL string. If you want to write multi-line SQL, you can end a line with `\\`, which means that the line will be concatenated with the following line. Be careful with comments if you are using the trick with `\\`!\n",
    "\n",
    "The following Python packages are required for this assignment:\n",
    "```\n",
    "pandas\n",
    "pyarrow\n",
    "duckdb\n",
    "jupysql\n",
    "duckdb-engine\n",
    "matplotlib\n",
    "pillow\n",
    "```\n",
    "\n",
    "\n",
    "### The Dataset\n",
    "We will use a data set that contains taxi drives from New York, which is provided for free by the city of New York. Interestingly, this data set is used in many research works because it (a) is easy to work with (b) contains real-life data and (c) has a decent size. For this exercise, we will only use the data from August 2021.\n",
    "\n",
    "Documentation of this data set is available at <https://www.nyc.gov/site/tlc/about/tlc-trip-record-data.page>. Specifically, have a look at <https://www.nyc.gov/assets/tlc/downloads/pdf/data_dictionary_trip_records_yellow.pdf>.\n",
    "When you look on the website, you will see several mentions of the \"Parquet format\". We will not use this for now, but we will learn about it later in the course. For now, we will first convert it to CSV, so that you can manually inspect the file.\n"
   ]
  },
  {
   "cell_type": "code",
   "execution_count": 2,
   "id": "6ab43236-f31e-4bfc-a1eb-55409a776dd3",
   "metadata": {},
   "outputs": [],
   "source": [
    "import pandas as pd\n",
    "\n",
    "# Download New York Taxi trip data set and convert it to CSV\n",
    "#df = pd.read_parquet('yellow_tripdata_2021-08.parquet')\n",
    "df = pd.read_csv('2021_Yellow_Taxi_Trip_Data.csv', low_memory=False)"
   ]
  },
  {
   "cell_type": "code",
   "execution_count": 3,
   "id": "20f17151",
   "metadata": {},
   "outputs": [
    {
     "name": "stdout",
     "output_type": "stream",
     "text": [
      "    Unnamed: 0  VendorID tpep_pickup_datetime tpep_dropoff_datetime  \\\n",
      "0            0         2  2021-08-01 00:04:06   2021-08-01 00:26:07   \n",
      "1            1         1  2021-08-01 00:34:14   2021-08-01 00:43:02   \n",
      "2            2         1  2021-08-01 00:43:53   2021-08-01 00:55:04   \n",
      "3            3         1  2021-08-01 00:53:19   2021-08-01 00:55:34   \n",
      "4            4         1  2021-08-01 00:58:54   2021-08-01 01:11:23   \n",
      "5            5         2  2021-08-01 00:11:59   2021-08-01 00:17:15   \n",
      "6            6         2  2021-08-01 00:28:29   2021-08-01 00:48:37   \n",
      "7            7         1  2021-08-01 00:21:11   2021-08-01 00:32:59   \n",
      "8            8         1  2021-08-01 00:37:38   2021-08-01 00:58:26   \n",
      "9            9         2  2021-08-01 00:08:46   2021-08-01 00:30:40   \n",
      "10          10         2  2021-08-01 00:37:07   2021-08-01 00:49:50   \n",
      "11          11         2  2021-08-01 00:54:32   2021-08-01 01:00:17   \n",
      "12          12         2  2021-08-01 18:15:50   2021-08-01 18:30:54   \n",
      "13          13         1  2021-08-01 00:34:42   2021-08-01 00:39:22   \n",
      "14          14         1  2021-08-01 00:55:36   2021-08-01 01:00:00   \n",
      "15          15         2  2021-08-01 00:04:42   2021-08-01 00:27:33   \n",
      "16          16         2  2021-08-01 00:36:55   2021-08-01 00:52:02   \n",
      "17          17         1  2021-08-01 00:08:25   2021-08-01 00:20:09   \n",
      "18          18         1  2021-08-01 00:23:10   2021-08-01 00:34:56   \n",
      "19          19         1  2021-08-01 00:36:45   2021-08-01 00:51:11   \n",
      "\n",
      "    passenger_count  trip_distance  RatecodeID store_and_fwd_flag  \\\n",
      "0               2.0           3.52         1.0                  N   \n",
      "1               0.0           2.10         1.0                  N   \n",
      "2               0.0           1.40         1.0                  N   \n",
      "3               1.0           0.40         1.0                  N   \n",
      "4               1.0           2.90         1.0                  N   \n",
      "5               1.0           0.55         1.0                  N   \n",
      "6               1.0           8.22         1.0                  N   \n",
      "7               1.0           3.90         1.0                  N   \n",
      "8               4.0           3.50         1.0                  N   \n",
      "9               1.0           5.63         1.0                  N   \n",
      "10              1.0           2.30         1.0                  N   \n",
      "11              1.0           1.22         1.0                  N   \n",
      "12              1.0           8.22         1.0                  N   \n",
      "13              1.0           1.00         1.0                  N   \n",
      "14              2.0           1.00         1.0                  N   \n",
      "15              1.0           4.55         1.0                  N   \n",
      "16              1.0           2.12         1.0                  N   \n",
      "17              1.0           2.50         1.0                  N   \n",
      "18              1.0           1.50         1.0                  N   \n",
      "19              1.0           3.50         1.0                  N   \n",
      "\n",
      "    PULocationID  DOLocationID  payment_type  fare_amount  extra  mta_tax  \\\n",
      "0             43            42             1         16.5    0.5      0.5   \n",
      "1             79           233             2          9.0    3.0      0.5   \n",
      "2            170            90             1          8.5    3.0      0.5   \n",
      "3            229           229             1          4.0    3.0      0.5   \n",
      "4            233           249             1         12.0    3.0      0.5   \n",
      "5            263           140             1          5.0    0.5      0.5   \n",
      "6            138            41             1         25.0    0.5      0.5   \n",
      "7            236             4             1         13.5    3.0      0.5   \n",
      "8              4            80             2         15.5    3.0      0.5   \n",
      "9            234           238             1         20.5    0.5      0.5   \n",
      "10           239           262             1         10.5    0.5      0.5   \n",
      "11           244           152             2          6.5    0.5      0.5   \n",
      "12           138           141             1         23.0    0.5      0.5   \n",
      "13           162            48             4          5.5    3.0      0.5   \n",
      "14           142           143             1          5.5    3.0      0.5   \n",
      "15           239           211             1         17.5    0.5      0.5   \n",
      "16           144           234             1         11.0    0.5      0.5   \n",
      "17           233            79             1         11.0    3.0      0.5   \n",
      "18             4           114             1          9.0    3.0      0.5   \n",
      "19           249           229             1         13.0    3.0      0.5   \n",
      "\n",
      "    tip_amount  tolls_amount  improvement_surcharge  total_amount  \\\n",
      "0         5.08          0.00                    0.3         25.38   \n",
      "1         0.00          0.00                    0.3         12.80   \n",
      "2         3.05          0.00                    0.3         15.35   \n",
      "3         1.17          0.00                    0.3          8.97   \n",
      "4         2.00          0.00                    0.3         17.80   \n",
      "5         1.76          0.00                    0.3         10.56   \n",
      "6         7.89          0.00                    0.3         35.44   \n",
      "7         3.45          0.00                    0.3         20.75   \n",
      "8         0.00          0.00                    0.3         19.30   \n",
      "9         4.86          0.00                    0.3         29.16   \n",
      "10        2.86          0.00                    0.3         17.16   \n",
      "11        0.00          0.00                    0.3          7.80   \n",
      "12        5.00          6.55                    0.3         39.60   \n",
      "13        0.00          0.00                    0.3          9.30   \n",
      "14        1.86          0.00                    0.3         11.16   \n",
      "15        0.00          0.00                    0.3         21.30   \n",
      "16        2.96          0.00                    0.3         17.76   \n",
      "17        2.95          0.00                    0.3         17.75   \n",
      "18        3.20          0.00                    0.3         16.00   \n",
      "19        2.00          0.00                    0.3         18.80   \n",
      "\n",
      "    congestion_surcharge  airport_fee  \n",
      "0                    2.5         0.00  \n",
      "1                    2.5         0.00  \n",
      "2                    2.5         0.00  \n",
      "3                    2.5         0.00  \n",
      "4                    2.5         0.00  \n",
      "5                    2.5         0.00  \n",
      "6                    0.0         1.25  \n",
      "7                    2.5         0.00  \n",
      "8                    2.5         0.00  \n",
      "9                    2.5         0.00  \n",
      "10                   2.5         0.00  \n",
      "11                   0.0         0.00  \n",
      "12                   2.5         1.25  \n",
      "13                   2.5         0.00  \n",
      "14                   2.5         0.00  \n",
      "15                   2.5         0.00  \n",
      "16                   2.5         0.00  \n",
      "17                   2.5         0.00  \n",
      "18                   2.5         0.00  \n",
      "19                   2.5         0.00  \n"
     ]
    }
   ],
   "source": [
    "print(df.head(20))"
   ]
  },
  {
   "cell_type": "code",
   "execution_count": 3,
   "id": "555636c5",
   "metadata": {},
   "outputs": [
    {
     "name": "stdout",
     "output_type": "stream",
     "text": [
      "<class 'pandas.core.frame.DataFrame'>\n",
      "RangeIndex: 2788757 entries, 0 to 2788756\n",
      "Data columns (total 19 columns):\n",
      " #   Column                 Dtype         \n",
      "---  ------                 -----         \n",
      " 0   VendorID               int64         \n",
      " 1   tpep_pickup_datetime   datetime64[ns]\n",
      " 2   tpep_dropoff_datetime  datetime64[ns]\n",
      " 3   passenger_count        float64       \n",
      " 4   trip_distance          float64       \n",
      " 5   RatecodeID             float64       \n",
      " 6   store_and_fwd_flag     object        \n",
      " 7   PULocationID           int64         \n",
      " 8   DOLocationID           int64         \n",
      " 9   payment_type           int64         \n",
      " 10  fare_amount            float64       \n",
      " 11  extra                  float64       \n",
      " 12  mta_tax                float64       \n",
      " 13  tip_amount             float64       \n",
      " 14  tolls_amount           float64       \n",
      " 15  improvement_surcharge  float64       \n",
      " 16  total_amount           float64       \n",
      " 17  congestion_surcharge   float64       \n",
      " 18  airport_fee            float64       \n",
      "dtypes: datetime64[ns](2), float64(12), int64(4), object(1)\n",
      "memory usage: 404.3+ MB\n"
     ]
    }
   ],
   "source": [
    "df.info()"
   ]
  },
  {
   "cell_type": "markdown",
   "id": "5147ef51-4583-4539-b93e-9475d0dec2d3",
   "metadata": {
    "deletable": false,
    "editable": false,
    "nbgrader": {
     "cell_type": "markdown",
     "checksum": "6f7fdd4c8962ac6e5305c73c09b1dc78",
     "grade": false,
     "grade_id": "cell-2fe6c4e5b0fcd6c4",
     "locked": true,
     "schema_version": 3,
     "solution": false,
     "task": false
    }
   },
   "source": [
    "## Example\n",
    "\n",
    "#### Example Q: How many entries does the \"2021 Yellow Taxi Trip Data\" have?"
   ]
  },
  {
   "cell_type": "code",
   "execution_count": 4,
   "id": "f6ff462b-8d98-44a4-9584-d001121ba4d5",
   "metadata": {},
   "outputs": [
    {
     "name": "stdout",
     "output_type": "stream",
     "text": [
      "2788757\n"
     ]
    }
   ],
   "source": [
    "%%bash\n",
    "\n",
    "# Explanation: tail -n +2 can be used to skip the header of the csv file. wc -l counts the lines in the output stream.\n",
    "tail -n +2 \"2021_Yellow_Taxi_Trip_Data.csv\" | wc -l"
   ]
  },
  {
   "cell_type": "markdown",
   "id": "7a5099b6-563a-44f4-a00d-3f8c23e604bb",
   "metadata": {
    "deletable": false,
    "editable": false,
    "nbgrader": {
     "cell_type": "markdown",
     "checksum": "2eba9d41708cd4893990c6f190be6375",
     "grade": false,
     "grade_id": "cell-67d60ee84c9a5e2e",
     "locked": true,
     "schema_version": 3,
     "solution": false,
     "task": false
    }
   },
   "source": [
    "--------\n",
    "\n",
    "# Part 1: UNIX tools\n",
    "\n",
    "\n",
    "## Task\n",
    "Try to answer the questions in the quiz. You should provide the command that you used to come to your answer together with a short explanation. The command should be a \"one-liner\" that outputs the correct result. You can either work from the terminal on your computer and copy-paste the solutions into the notebook cells or directly run bash commands in the notebook (see example)."
   ]
  },
  {
   "cell_type": "markdown",
   "id": "22c15008-0b6c-4e11-82a6-f9a26dbcde4a",
   "metadata": {
    "deletable": false,
    "editable": false,
    "nbgrader": {
     "cell_type": "markdown",
     "checksum": "dcd11fc86434e8ae120e74d7aae8f721",
     "grade": false,
     "grade_id": "cell-2ce889e5c9278d44",
     "locked": true,
     "schema_version": 3,
     "solution": false,
     "task": false
    }
   },
   "source": [
    "## 1) Outliers\n",
    "\n",
    "First, we would like to understand more about the extreme values of the data set. An early understanding of this helps further down the road, i.e. if some of the extreme values look unreasonable, they should be filtered out before further processing the data set. Sometimes, they even have to be corrected!\n"
   ]
  },
  {
   "cell_type": "markdown",
   "id": "eb5723fc-0a55-408f-8905-7acd021bdb3e",
   "metadata": {
    "deletable": false,
    "editable": false,
    "nbgrader": {
     "cell_type": "markdown",
     "checksum": "6aedb00bce4f6400ccc0d7be5e4c1e31",
     "grade": false,
     "grade_id": "cell-1d75104ae5e60354",
     "locked": true,
     "schema_version": 3,
     "solution": false,
     "task": false
    }
   },
   "source": [
    "#### Q1.1: What is the trip that had the most expensive `total_amount`? Comment on the value, i.e. is it reasonable?"
   ]
  },
  {
   "cell_type": "code",
   "execution_count": 6,
   "id": "d76dfed9-687f-4a5f-a31f-cb465ae3010a",
   "metadata": {
    "deletable": false,
    "nbgrader": {
     "cell_type": "code",
     "checksum": "a015d87494c4e7bc3b95271aea415a84",
     "grade": true,
     "grade_id": "cell-601111185ccd08be",
     "locked": false,
     "points": 0,
     "schema_version": 3,
     "solution": true,
     "task": false
    }
   },
   "outputs": [
    {
     "name": "stdout",
     "output_type": "stream",
     "text": [
      "The most expensive trip: 661923,1,2021-08-08 18:20:39,2021-08-08 19:11:21,4.0,12.4,1.0,N,50,188,4,43.0,2.5,0.5,0.0,913.01,0.3,959.31,2.5,0.0\r\n"
     ]
    }
   ],
   "source": [
    "%%bash\n",
    "echo \"The most expensive trip: $(cat '2021_Yellow_Taxi_Trip_Data.csv' | sort -t, -k18,18nr | head -n 1)\"\n"
   ]
  },
  {
   "cell_type": "code",
   "execution_count": 5,
   "id": "ab8af634",
   "metadata": {},
   "outputs": [
    {
     "name": "stdout",
     "output_type": "stream",
     "text": [
      "<class 'pandas.core.frame.DataFrame'>\n",
      "RangeIndex: 2788757 entries, 0 to 2788756\n",
      "Data columns (total 20 columns):\n",
      " #   Column                 Dtype  \n",
      "---  ------                 -----  \n",
      " 0   Unnamed: 0             int64  \n",
      " 1   VendorID               int64  \n",
      " 2   tpep_pickup_datetime   object \n",
      " 3   tpep_dropoff_datetime  object \n",
      " 4   passenger_count        float64\n",
      " 5   trip_distance          float64\n",
      " 6   RatecodeID             float64\n",
      " 7   store_and_fwd_flag     object \n",
      " 8   PULocationID           int64  \n",
      " 9   DOLocationID           int64  \n",
      " 10  payment_type           int64  \n",
      " 11  fare_amount            float64\n",
      " 12  extra                  float64\n",
      " 13  mta_tax                float64\n",
      " 14  tip_amount             float64\n",
      " 15  tolls_amount           float64\n",
      " 16  improvement_surcharge  float64\n",
      " 17  total_amount           float64\n",
      " 18  congestion_surcharge   float64\n",
      " 19  airport_fee            float64\n",
      "dtypes: float64(12), int64(5), object(3)\n",
      "memory usage: 425.5+ MB\n"
     ]
    }
   ],
   "source": [
    "df.info()"
   ]
  },
  {
   "cell_type": "markdown",
   "id": "fafb57c5-ff65-42dc-bab1-465bfec898d3",
   "metadata": {
    "deletable": false,
    "editable": false,
    "nbgrader": {
     "cell_type": "markdown",
     "checksum": "c82ac590ea6efabc09d455a1dd11dd65",
     "grade": false,
     "grade_id": "cell-129af33267c00ce2",
     "locked": true,
     "schema_version": 3,
     "solution": false,
     "task": false
    }
   },
   "source": [
    "#### Q1.2: What's the distance of the longest and shortest trip in kilometers? Comment on the value, i.e. is it reasonable? Try to come up with a one-liner that outputs both numbers in one line!  \n",
    "_Note: The distances in the file are in miles. Try to convert them into kilometers inside your command._"
   ]
  },
  {
   "cell_type": "code",
   "execution_count": 13,
   "id": "bb8efb03-2ace-4ff8-b0c3-0d794bb37ae0",
   "metadata": {
    "deletable": false,
    "nbgrader": {
     "cell_type": "code",
     "checksum": "a09135701a6097b7398aff16f67bb19e",
     "grade": true,
     "grade_id": "cell-29221ab1572d4c0e",
     "locked": false,
     "points": 0,
     "schema_version": 3,
     "solution": true,
     "task": false
    }
   },
   "outputs": [
    {
     "name": "stderr",
     "output_type": "stream",
     "text": [
      "sed: -e expression #1, char 3: extra characters after command\n"
     ]
    },
    {
     "name": "stdout",
     "output_type": "stream",
     "text": [
      "Distance of longest and shortest trip: \n"
     ]
    }
   ],
   "source": [
    "%%bash\n",
    "echo \"Distance of longest and shortest trip: $(cat '2021_Yellow_Taxi_Trip_Data.csv' |cut -d',' -f6| sort -nr | sed -n '1p*1.609;$p')\"\n",
    "#sed - stream editor used to select a particular row"
   ]
  },
  {
   "cell_type": "markdown",
   "id": "fd91ede6-49f6-4e60-bb5d-9f0defd14c0f",
   "metadata": {
    "deletable": false,
    "editable": false,
    "nbgrader": {
     "cell_type": "markdown",
     "checksum": "9dd7f52d15772526e961ddcde474303b",
     "grade": false,
     "grade_id": "cell-0b8f25a8b4061f9c",
     "locked": true,
     "schema_version": 3,
     "solution": false,
     "task": false
    }
   },
   "source": [
    "#### Q1.3: What is the maximum number of passengers on a single taxi ride? Comment on the value, i.e. is it reasonable?"
   ]
  },
  {
   "cell_type": "code",
   "execution_count": 5,
   "id": "f1b93ba9-c11a-4d59-b8eb-15d971ba8888",
   "metadata": {
    "deletable": false,
    "nbgrader": {
     "cell_type": "code",
     "checksum": "76b13a3ea7b35573020aadcb84462952",
     "grade": true,
     "grade_id": "cell-62262fda264b4f79",
     "locked": false,
     "points": 0,
     "schema_version": 3,
     "solution": true,
     "task": false
    }
   },
   "outputs": [
    {
     "name": "stdout",
     "output_type": "stream",
     "text": [
      "112.0\n"
     ]
    }
   ],
   "source": [
    "%%bash\n",
    "cat '2021_Yellow_Taxi_Trip_Data.csv'| cut -d ',' -f5  | sort -nr | head -n 1 "
   ]
  },
  {
   "cell_type": "markdown",
   "id": "d863b6f8-925a-4353-bcc8-adea18fb14d4",
   "metadata": {
    "deletable": false,
    "editable": false,
    "nbgrader": {
     "cell_type": "markdown",
     "checksum": "b4519fe2dac9b89720943db352e0c564",
     "grade": false,
     "grade_id": "cell-b3aaf918978122a2",
     "locked": true,
     "schema_version": 3,
     "solution": false,
     "task": false
    }
   },
   "source": [
    "#### Q1.4: How many entries do *not* belong in August 2021, i.e. when a trip neither has pickup_datetime nor dropoff_datetime in August 2021?"
   ]
  },
  {
   "cell_type": "code",
   "execution_count": 45,
   "id": "be735075-7cbd-4c7f-a1c4-53144f5272cb",
   "metadata": {
    "deletable": false,
    "nbgrader": {
     "cell_type": "code",
     "checksum": "3d4f4a0b47a6265a432cedd414cf8135",
     "grade": true,
     "grade_id": "cell-b4c577635e203e59",
     "locked": false,
     "points": 0,
     "schema_version": 3,
     "solution": true,
     "task": false
    }
   },
   "outputs": [
    {
     "name": "stdout",
     "output_type": "stream",
     "text": [
      "476\n"
     ]
    }
   ],
   "source": [
    "%%bash\n",
    "awk -F, 'NR > 1 {if ($3 !~ /^2021-08/ && $4 !~ /^2021-08/) {count++}}END { print count }' 2021_Yellow_Taxi_Trip_Data.csv"
   ]
  },
  {
   "cell_type": "code",
   "execution_count": 8,
   "id": "89c4dcfe",
   "metadata": {},
   "outputs": [
    {
     "name": "stdout",
     "output_type": "stream",
     "text": [
      "476\n"
     ]
    }
   ],
   "source": [
    "%%bash \n",
    "awk -F, '(NR>1 && $3 !~ /^2021-08/ && $4 !~ /^2021-08/)' 2021_Yellow_Taxi_Trip_Data.csv | wc -l"
   ]
  },
  {
   "cell_type": "code",
   "execution_count": 34,
   "id": "56955465",
   "metadata": {},
   "outputs": [
    {
     "name": "stdout",
     "output_type": "stream",
     "text": [
      "tpep_dropoff_datetime\n",
      "2021-08-01 00:26:07\n"
     ]
    }
   ],
   "source": [
    "%%bash\n",
    "cat '2021_Yellow_Taxi_Trip_Data.csv'|cut -d',' -f4|head -n 2"
   ]
  },
  {
   "cell_type": "markdown",
   "id": "29a81bd9-6b05-4aa3-ac53-4fbc3bb5b92b",
   "metadata": {
    "deletable": false,
    "editable": false,
    "nbgrader": {
     "cell_type": "markdown",
     "checksum": "814e53ed4dad9304ead19741d6469d79",
     "grade": false,
     "grade_id": "cell-fdfb6df7bcfa6620",
     "locked": true,
     "schema_version": 3,
     "solution": false,
     "task": false
    }
   },
   "source": [
    "## 2) Missing Values\n",
    "\n",
    "Next, we'll look at missing values. Missing values might be indicated in various different ways, e.g. NULL, NIL, None, Undefined, -1, empty strings, ...\n",
    "\n",
    "The column `passenger_count` has quite a lot of missing values."
   ]
  },
  {
   "cell_type": "markdown",
   "id": "aeeceb66-afda-48be-bb99-4a966b5ef0ee",
   "metadata": {
    "deletable": false,
    "editable": false,
    "nbgrader": {
     "cell_type": "markdown",
     "checksum": "eba33075368308f354f946082cf35c1a",
     "grade": false,
     "grade_id": "cell-e4c44d7845fb58ed",
     "locked": true,
     "schema_version": 3,
     "solution": false,
     "task": false
    }
   },
   "source": [
    "#### Q2.1: How many missing values are there in the `passenger_count` column?"
   ]
  },
  {
   "cell_type": "code",
   "execution_count": 96,
   "id": "8f9c9767-46f7-4d8e-bef0-cf91a41b1baf",
   "metadata": {
    "deletable": false,
    "nbgrader": {
     "cell_type": "code",
     "checksum": "f54fbdafd3b272b3142592c86b847068",
     "grade": true,
     "grade_id": "cell-0972109729c21a70",
     "locked": false,
     "points": 0,
     "schema_version": 3,
     "solution": true,
     "task": false
    }
   },
   "outputs": [
    {
     "name": "stdout",
     "output_type": "stream",
     "text": [
      "135590\n"
     ]
    }
   ],
   "source": [
    "%%bash\n",
    "awk -F',' 'NR > 1 && ($5 == \"\")' 2021_Yellow_Taxi_Trip_Data.csv | wc -l\n",
    "\n",
    "# <your code here>"
   ]
  },
  {
   "cell_type": "markdown",
   "id": "9944f38c-4e7e-4ddd-9b14-2249b2829825",
   "metadata": {
    "deletable": false,
    "editable": false,
    "nbgrader": {
     "cell_type": "markdown",
     "checksum": "46b7c0ba682a541ab2b5ac988324c8ce",
     "grade": false,
     "grade_id": "cell-d5cf12c16efcf5b9",
     "locked": true,
     "schema_version": 3,
     "solution": false,
     "task": false
    }
   },
   "source": [
    "#### Q2.2: Describe how you figured out what value is considered \"empty\"? Is the data set using NULL, -1 or something different? Come up with a clever way using UNIX tools!"
   ]
  },
  {
   "cell_type": "code",
   "execution_count": 95,
   "id": "4360c0d9-2f31-484a-adfb-511be5448555",
   "metadata": {
    "deletable": false,
    "nbgrader": {
     "cell_type": "code",
     "checksum": "e9834f4243b2ef8e964ad9990814a50b",
     "grade": true,
     "grade_id": "cell-6b76e82fbc52d3be",
     "locked": false,
     "points": 0,
     "schema_version": 3,
     "solution": true,
     "task": false
    }
   },
   "outputs": [
    {
     "name": "stdout",
     "output_type": "stream",
     "text": [
      "Empty: 135590\n",
      "NULL: 0\n",
      "NIL: 0\n",
      "None: 0\n",
      "Undefined: 0\n",
      "-1: 0\n"
     ]
    }
   ],
   "source": [
    "%%bash\n",
    "awk -F, '\n",
    "NR > 1 {\n",
    "    if ($5 == \"\") empty++\n",
    "    else if ($5 == \"NULL\") null++\n",
    "    else if ($5 == \"NIL\") nil++\n",
    "    else if ($5 == \"None\") none++\n",
    "    else if ($5 == \"Undefined\") undefined++\n",
    "    else if ($5 == \"-1\") minus_one++\n",
    "}\n",
    "END {\n",
    "    print \"Empty:\", empty+0\n",
    "    print \"NULL:\", null+0\n",
    "    print \"NIL:\", nil+0\n",
    "    print \"None:\", none+0\n",
    "    print \"Undefined:\", undefined+0\n",
    "    print \"-1:\", minus_one+0\n",
    "}' 2021_Yellow_Taxi_Trip_Data.csv\n"
   ]
  },
  {
   "cell_type": "markdown",
   "id": "8fd1600b-e09b-49e9-8bb8-4671d78b95f1",
   "metadata": {
    "deletable": false,
    "editable": false,
    "nbgrader": {
     "cell_type": "markdown",
     "checksum": "d28ec4bb93bd1a4a6e64f1f58e4a4956",
     "grade": false,
     "grade_id": "cell-59866f65380d1a33",
     "locked": true,
     "schema_version": 3,
     "solution": false,
     "task": false
    }
   },
   "source": [
    "## 3) Distributions\n",
    "\n",
    "Another important piece of information about a data set is a notion of distribution. Data sets might be \"top-heavy\", i.e. a significant portion of data points are concentrated towards the higher end of the scale, or \"bottom-heavy\", which is just the opposite of top-heavy. When it comes to heavily skewed data distributions, it's important to understand that single metrics like a MEAN don't fully describe the \"average characteristics\". A property of top-heavy data sets is that the MEAN is larger than the MEDIAN because there are some large values that pull up the MEDIAN. As we will see in a minute, `passenger_count` is a bottom-heavy distribution.\n",
    "\n",
    "\n",
    "\n",
    "\n",
    "Let's have a closer look at the `passenger_count` column in this exercise. Only use UNIX tools that are installed per default. No Python scripting, datamash or whatever ;)"
   ]
  },
  {
   "cell_type": "markdown",
   "id": "20cdc6dd-92e2-4570-b8db-024c9ed74eb1",
   "metadata": {
    "deletable": false,
    "editable": false,
    "nbgrader": {
     "cell_type": "markdown",
     "checksum": "320a36d70fd2beee4258e8e721c0353d",
     "grade": false,
     "grade_id": "cell-93f05a68c5381be5",
     "locked": true,
     "schema_version": 3,
     "solution": false,
     "task": false
    }
   },
   "source": [
    "#### Q3.1: What is the mean value for the number of passengers?"
   ]
  },
  {
   "cell_type": "code",
   "execution_count": 22,
   "id": "035fc13a-db94-445a-a6fe-cda5a495d410",
   "metadata": {
    "deletable": false,
    "nbgrader": {
     "cell_type": "code",
     "checksum": "4a800dbfe984e864fabc96cdf1be6b3d",
     "grade": true,
     "grade_id": "cell-d4c4ab51052ac43e",
     "locked": false,
     "points": 0,
     "schema_version": 3,
     "solution": true,
     "task": false
    }
   },
   "outputs": [
    {
     "name": "stdout",
     "output_type": "stream",
     "text": [
      "1.48016\n"
     ]
    }
   ],
   "source": [
    "%%bash\n",
    "awk -F, '$5>0 {sum += $5; count++} END {print sum / count}' 2021_Yellow_Taxi_Trip_Data.csv"
   ]
  },
  {
   "cell_type": "markdown",
   "id": "1b965e64-f170-44c2-9fd8-1db39ecc3564",
   "metadata": {
    "deletable": false,
    "editable": false,
    "nbgrader": {
     "cell_type": "markdown",
     "checksum": "c87d37eba9db3572a951e561b8271082",
     "grade": false,
     "grade_id": "cell-7a349ded0a550c7c",
     "locked": true,
     "schema_version": 3,
     "solution": false,
     "task": false
    }
   },
   "source": [
    "#### Q3.2: What is the median value for the number of passengers?\n",
    "\n",
    "_Note: This one is surprisingly tricky. You can assume that you have the number of entries in the data set. Extra points if manage to compute it without any assumptions about the size of the data set._"
   ]
  },
  {
   "cell_type": "code",
   "execution_count": 25,
   "id": "cdd8023e-83cf-44dc-abb4-11d87e8bf102",
   "metadata": {
    "deletable": false,
    "nbgrader": {
     "cell_type": "code",
     "checksum": "54516efe0aa07e4ec83643278e7ffa5a",
     "grade": true,
     "grade_id": "cell-70630bb1674535a9",
     "locked": false,
     "points": 0,
     "schema_version": 3,
     "solution": true,
     "task": false
    }
   },
   "outputs": [
    {
     "name": "stdout",
     "output_type": "stream",
     "text": [
      "0\n"
     ]
    }
   ],
   "source": [
    "%%bash\n",
    "awk -F',' '$5 ~ /^[0-9]+$/ {print $5}' 2021_Yellow_Taxi_Trip_Data.csv | sort -n | awk '{count[NR] = $1} END {if (NR % 2) {print count[(NR + 1) / 2]} else {print (count[NR / 2] + count[NR / 2 + 1]) / 2}}'\n"
   ]
  },
  {
   "cell_type": "code",
   "execution_count": 26,
   "id": "e6bb2aeb",
   "metadata": {},
   "outputs": [
    {
     "name": "stdout",
     "output_type": "stream",
     "text": [
      "1\n"
     ]
    }
   ],
   "source": [
    "%%bash\n",
    "cut -d ',' -f5 2021_Yellow_Taxi_Trip_Data.csv | sort -n|awk '{count[NR] = $1} END {if (NR % 2) {print count[(NR + 1) / 2]} else {print (count[NR / 2] + count[NR / 2 + 1]) / 2}}'"
   ]
  },
  {
   "cell_type": "markdown",
   "id": "964d150e-7d54-484f-96c8-825e5632aa54",
   "metadata": {
    "deletable": false,
    "editable": false,
    "nbgrader": {
     "cell_type": "markdown",
     "checksum": "377bc1df0e93ee32e13e34d8c7744790",
     "grade": false,
     "grade_id": "cell-1d28fa0dfb6ca1e8",
     "locked": true,
     "schema_version": 3,
     "solution": false,
     "task": false
    }
   },
   "source": [
    "#### Q3.3: What is the p95 value for passenger count?"
   ]
  },
  {
   "cell_type": "code",
   "execution_count": 1,
   "id": "0f1d2d1e-83d1-4a9d-ab77-9dc2fd709a59",
   "metadata": {
    "deletable": false,
    "nbgrader": {
     "cell_type": "code",
     "checksum": "4bcb556b58e433c047ba886dca4584df",
     "grade": true,
     "grade_id": "cell-911f11176c7d119d",
     "locked": false,
     "points": 0,
     "schema_version": 3,
     "solution": true,
     "task": false
    }
   },
   "outputs": [],
   "source": [
    "%%bash\n",
    "awk -F',' '$5 ~ /^[0-9]+$/ {print $5}' 2021_Yellow_Taxi_Trip_Data.csv | sort -n | awk '{count[NR] = $1} END {if (NR > 0) {print count[int(NR * 0.95 + 0.5)]}}'\n"
   ]
  },
  {
   "cell_type": "code",
   "execution_count": 104,
   "id": "3b9073cf",
   "metadata": {},
   "outputs": [
    {
     "ename": "SyntaxError",
     "evalue": "invalid decimal literal (2209686485.py, line 1)",
     "output_type": "error",
     "traceback": [
      "\u001b[1;36m  Cell \u001b[1;32mIn[104], line 1\u001b[1;36m\u001b[0m\n\u001b[1;33m    awk -F, 'NR > 1 && $5 > 0 {print $5}' 2021_Yellow_Taxi_Trip_Data.csv | sort -n | awk 'NR==int(0.95*NR) {print; exit}'\u001b[0m\n\u001b[1;37m                                              ^\u001b[0m\n\u001b[1;31mSyntaxError\u001b[0m\u001b[1;31m:\u001b[0m invalid decimal literal\n"
     ]
    }
   ],
   "source": [
    "awk -F, 'NR > 1 && $5 > 0 {print $5}' 2021_Yellow_Taxi_Trip_Data.csv | sort -n | awk 'NR==int(0.95*NR) {print; exit}'\n"
   ]
  },
  {
   "cell_type": "markdown",
   "id": "c5e106cd-8b02-4292-a6f7-663fc1982c81",
   "metadata": {
    "deletable": false,
    "editable": false,
    "nbgrader": {
     "cell_type": "markdown",
     "checksum": "99633335c22aa8be05abdd3df356e943",
     "grade": false,
     "grade_id": "cell-2b45e3176ae38908",
     "locked": true,
     "schema_version": 3,
     "solution": false,
     "task": false
    }
   },
   "source": [
    "#### Q3.4 How many distinct values (NDV) are there for the `passenger_count` column?"
   ]
  },
  {
   "cell_type": "code",
   "execution_count": 43,
   "id": "12a6678b-2e57-48dd-a155-dcaa910ebf2a",
   "metadata": {
    "deletable": false,
    "nbgrader": {
     "cell_type": "code",
     "checksum": "6ea186819fdcb1d009e7e0cdcb0b4292",
     "grade": true,
     "grade_id": "cell-d2a48fee591c26a7",
     "locked": false,
     "points": 0,
     "schema_version": 3,
     "solution": true,
     "task": false
    }
   },
   "outputs": [
    {
     "name": "stdout",
     "output_type": "stream",
     "text": [
      "14\n"
     ]
    }
   ],
   "source": [
    "%%bash\n",
    "\n",
    "cut -d ',' -f5 2021_Yellow_Taxi_Trip_Data.csv | sort | uniq | wc -l\n"
   ]
  },
  {
   "cell_type": "markdown",
   "id": "d5dcd675-4748-490a-8b18-6da07efef7ae",
   "metadata": {
    "deletable": false,
    "editable": false,
    "nbgrader": {
     "cell_type": "markdown",
     "checksum": "a33d0bf54e37d548bdbb5f765555e0ee",
     "grade": false,
     "grade_id": "cell-9924347941b82e98",
     "locked": true,
     "schema_version": 3,
     "solution": false,
     "task": false
    }
   },
   "source": [
    "-------\n",
    "# Part 2: Beyond Bash: SQL\n",
    "\n",
    "You might have noticed that UNIX commands can get pretty complex and are sometimes hard to understand. Also, their performance is sometimes not the best.\n",
    "In the second part of this exercise you get the chance to do the same thing again, but in SQL. For this, we use DuckDB inside this notebook.\n",
    "\n",
    "To use DuckDb, you first have to install it (see also https://duckdb.org/docs/guides/python/jupyter.html):\n",
    "```\n",
    "pip install duckdb\n",
    "pip install jupysql\n",
    "pip install duckdb-engine\n",
    "pip install pandas\n",
    "pip install matplotlib\n",
    "```\n",
    "\n",
    "If you installed everything correctly, the following cell should just work:"
   ]
  },
  {
   "cell_type": "code",
   "execution_count": 5,
   "id": "f35b24aa-eba7-4e93-849c-86bee719fdca",
   "metadata": {
    "deletable": false,
    "editable": false,
    "nbgrader": {
     "cell_type": "code",
     "checksum": "ad883be3802dd4cec3758c773f273c2c",
     "grade": false,
     "grade_id": "cell-26d49d95a4bbeadd",
     "locked": true,
     "schema_version": 3,
     "solution": false,
     "task": false
    }
   },
   "outputs": [
    {
     "data": {
      "text/html": [
       "<span style=\"None\">Connecting to &#x27;duckdb:///:memory:&#x27;</span>"
      ],
      "text/plain": [
       "Connecting to 'duckdb:///:memory:'"
      ]
     },
     "metadata": {},
     "output_type": "display_data"
    }
   ],
   "source": [
    "import duckdb\n",
    "import pandas as pd\n",
    "\n",
    "# Enable using '%sql' syntax in notebooks:\n",
    "%reload_ext sql\n",
    "# Initialize DuckDB\n",
    "%sql duckdb:///:memory:\n",
    "# Set output format options via pandas for DuckDB\n",
    "pd.set_option('display.max_columns', None)\n",
    "\n",
    "%config SqlMagic.autopandas = True\n",
    "%config SqlMagic.feedback = False\n",
    "%config SqlMagic.displaycon = False"
   ]
  },
  {
   "cell_type": "code",
   "execution_count": 16,
   "id": "bfe2c64b-f160-49fb-8d6d-769ae7386982",
   "metadata": {
    "deletable": false,
    "editable": false,
    "nbgrader": {
     "cell_type": "code",
     "checksum": "d5cfa87f4dff8d8a2265d9ed9da44a04",
     "grade": false,
     "grade_id": "cell-3962ca65ff2cf8bd",
     "locked": true,
     "schema_version": 3,
     "solution": false,
     "task": false
    }
   },
   "outputs": [
    {
     "data": {
      "text/html": [
       "<div>\n",
       "<style scoped>\n",
       "    .dataframe tbody tr th:only-of-type {\n",
       "        vertical-align: middle;\n",
       "    }\n",
       "\n",
       "    .dataframe tbody tr th {\n",
       "        vertical-align: top;\n",
       "    }\n",
       "\n",
       "    .dataframe thead th {\n",
       "        text-align: right;\n",
       "    }\n",
       "</style>\n",
       "<table border=\"1\" class=\"dataframe\">\n",
       "  <thead>\n",
       "    <tr style=\"text-align: right;\">\n",
       "      <th></th>\n",
       "      <th>cnt</th>\n",
       "    </tr>\n",
       "  </thead>\n",
       "  <tbody>\n",
       "    <tr>\n",
       "      <th>0</th>\n",
       "      <td>2788757</td>\n",
       "    </tr>\n",
       "  </tbody>\n",
       "</table>\n",
       "</div>"
      ],
      "text/plain": [
       "       cnt\n",
       "0  2788757"
      ]
     },
     "execution_count": 16,
     "metadata": {},
     "output_type": "execute_result"
    }
   ],
   "source": [
    "# Test that everything works by running a test-query on the input file using DuckDB.\n",
    "%sql select count(*) as cnt from '2021_Yellow_Taxi_Trip_Data.csv';"
   ]
  },
  {
   "cell_type": "markdown",
   "id": "e4387645-601c-4c69-87bc-dcc0a88ae5ec",
   "metadata": {
    "deletable": false,
    "editable": false,
    "nbgrader": {
     "cell_type": "markdown",
     "checksum": "80cab817f1374aad82a529607644a7bd",
     "grade": false,
     "grade_id": "cell-09c37cef8a5888d7",
     "locked": true,
     "schema_version": 3,
     "solution": false,
     "task": false
    }
   },
   "source": [
    "#### Q4.1: What is the trip that had the most expensive `total_amount`?"
   ]
  },
  {
   "cell_type": "code",
   "execution_count": 22,
   "id": "3fe7cd40-9a31-4c65-88b2-554a0b7dbcd5",
   "metadata": {
    "deletable": false,
    "nbgrader": {
     "cell_type": "code",
     "checksum": "795d7603217ac90ede02cf27a552db4f",
     "grade": false,
     "grade_id": "cell-8b237dfc93a2d402",
     "locked": false,
     "schema_version": 3,
     "solution": true,
     "task": false
    }
   },
   "outputs": [
    {
     "data": {
      "text/html": [
       "<div>\n",
       "<style scoped>\n",
       "    .dataframe tbody tr th:only-of-type {\n",
       "        vertical-align: middle;\n",
       "    }\n",
       "\n",
       "    .dataframe tbody tr th {\n",
       "        vertical-align: top;\n",
       "    }\n",
       "\n",
       "    .dataframe thead th {\n",
       "        text-align: right;\n",
       "    }\n",
       "</style>\n",
       "<table border=\"1\" class=\"dataframe\">\n",
       "  <thead>\n",
       "    <tr style=\"text-align: right;\">\n",
       "      <th></th>\n",
       "      <th>column00</th>\n",
       "      <th>VendorID</th>\n",
       "      <th>tpep_pickup_datetime</th>\n",
       "      <th>tpep_dropoff_datetime</th>\n",
       "      <th>passenger_count</th>\n",
       "      <th>trip_distance</th>\n",
       "      <th>RatecodeID</th>\n",
       "      <th>store_and_fwd_flag</th>\n",
       "      <th>PULocationID</th>\n",
       "      <th>DOLocationID</th>\n",
       "      <th>payment_type</th>\n",
       "      <th>fare_amount</th>\n",
       "      <th>extra</th>\n",
       "      <th>mta_tax</th>\n",
       "      <th>tip_amount</th>\n",
       "      <th>tolls_amount</th>\n",
       "      <th>improvement_surcharge</th>\n",
       "      <th>total_amount</th>\n",
       "      <th>congestion_surcharge</th>\n",
       "      <th>airport_fee</th>\n",
       "    </tr>\n",
       "  </thead>\n",
       "  <tbody>\n",
       "    <tr>\n",
       "      <th>0</th>\n",
       "      <td>661923</td>\n",
       "      <td>1</td>\n",
       "      <td>2021-08-08 18:20:39</td>\n",
       "      <td>2021-08-08 19:11:21</td>\n",
       "      <td>4.0</td>\n",
       "      <td>12.4</td>\n",
       "      <td>1.0</td>\n",
       "      <td>N</td>\n",
       "      <td>50</td>\n",
       "      <td>188</td>\n",
       "      <td>4</td>\n",
       "      <td>43.0</td>\n",
       "      <td>2.5</td>\n",
       "      <td>0.5</td>\n",
       "      <td>0.0</td>\n",
       "      <td>913.01</td>\n",
       "      <td>0.3</td>\n",
       "      <td>959.31</td>\n",
       "      <td>2.5</td>\n",
       "      <td>0.0</td>\n",
       "    </tr>\n",
       "  </tbody>\n",
       "</table>\n",
       "</div>"
      ],
      "text/plain": [
       "   column00  VendorID tpep_pickup_datetime tpep_dropoff_datetime  \\\n",
       "0    661923         1  2021-08-08 18:20:39   2021-08-08 19:11:21   \n",
       "\n",
       "   passenger_count  trip_distance  RatecodeID store_and_fwd_flag  \\\n",
       "0              4.0           12.4         1.0                  N   \n",
       "\n",
       "   PULocationID  DOLocationID  payment_type  fare_amount  extra  mta_tax  \\\n",
       "0            50           188             4         43.0    2.5      0.5   \n",
       "\n",
       "   tip_amount  tolls_amount  improvement_surcharge  total_amount  \\\n",
       "0         0.0        913.01                    0.3        959.31   \n",
       "\n",
       "   congestion_surcharge  airport_fee  \n",
       "0                   2.5          0.0  "
      ]
     },
     "execution_count": 22,
     "metadata": {},
     "output_type": "execute_result"
    }
   ],
   "source": [
    "# Answer:\n",
    "%sql SELECT * FROM '2021_Yellow_Taxi_Trip_Data.csv' ORDER BY total_amount DESC LIMIT 1;"
   ]
  },
  {
   "cell_type": "code",
   "execution_count": null,
   "id": "10e9370f-ed5f-4754-91d0-8ca601c7cf5a",
   "metadata": {
    "deletable": false,
    "editable": false,
    "nbgrader": {
     "cell_type": "code",
     "checksum": "396988e74695156fb533909c35ecca01",
     "grade": true,
     "grade_id": "cell-39d84a3edd194379",
     "locked": true,
     "points": 0,
     "schema_version": 3,
     "solution": false,
     "task": false
    }
   },
   "outputs": [],
   "source": [
    "# Cell is used for grading. Do not remove."
   ]
  },
  {
   "cell_type": "markdown",
   "id": "595cfe75-2ca7-4869-9512-1acb948db32a",
   "metadata": {
    "deletable": false,
    "editable": false,
    "nbgrader": {
     "cell_type": "markdown",
     "checksum": "40fe0c2514f963bf0ac468cde69053a4",
     "grade": false,
     "grade_id": "cell-5a7d150cb871cea6",
     "locked": true,
     "schema_version": 3,
     "solution": false,
     "task": false
    }
   },
   "source": [
    "#### Q4.2: What's the distance of the longest and shortest trip in kilometers?"
   ]
  },
  {
   "cell_type": "code",
   "execution_count": 48,
   "id": "582492bb-7a98-4509-8c3a-ae08e259aab6",
   "metadata": {
    "deletable": false,
    "nbgrader": {
     "cell_type": "code",
     "checksum": "d89eeea770e1f608ec78cfa3488eb049",
     "grade": false,
     "grade_id": "cell-10a04be0f45c2670",
     "locked": false,
     "schema_version": 3,
     "solution": true,
     "task": false
    }
   },
   "outputs": [
    {
     "data": {
      "text/html": [
       "<div>\n",
       "<style scoped>\n",
       "    .dataframe tbody tr th:only-of-type {\n",
       "        vertical-align: middle;\n",
       "    }\n",
       "\n",
       "    .dataframe tbody tr th {\n",
       "        vertical-align: top;\n",
       "    }\n",
       "\n",
       "    .dataframe thead th {\n",
       "        text-align: right;\n",
       "    }\n",
       "</style>\n",
       "<table border=\"1\" class=\"dataframe\">\n",
       "  <thead>\n",
       "    <tr style=\"text-align: right;\">\n",
       "      <th></th>\n",
       "      <th>maximum_distance</th>\n",
       "      <th>minimum_distance</th>\n",
       "    </tr>\n",
       "  </thead>\n",
       "  <tbody>\n",
       "    <tr>\n",
       "      <th>0</th>\n",
       "      <td>495473.17522</td>\n",
       "      <td>0.0</td>\n",
       "    </tr>\n",
       "  </tbody>\n",
       "</table>\n",
       "</div>"
      ],
      "text/plain": [
       "   maximum_distance  minimum_distance\n",
       "0      495473.17522               0.0"
      ]
     },
     "execution_count": 48,
     "metadata": {},
     "output_type": "execute_result"
    }
   ],
   "source": [
    "# Answer:\n",
    "\n",
    "%sql SELECT MAX(trip_distance)*1.609 as maximum_distance, MIN(trip_distance)*1.609 as minimum_distance FROM '2021_Yellow_Taxi_Trip_Data.csv' "
   ]
  },
  {
   "cell_type": "code",
   "execution_count": null,
   "id": "be05d7a7-e6c1-4438-b7d8-af54ad1e6ad8",
   "metadata": {
    "deletable": false,
    "editable": false,
    "nbgrader": {
     "cell_type": "code",
     "checksum": "69b234533f1ecd20f7e7e518cb37ffc7",
     "grade": true,
     "grade_id": "cell-ad834f060dbc25fc",
     "locked": true,
     "points": 0,
     "schema_version": 3,
     "solution": false,
     "task": false
    }
   },
   "outputs": [],
   "source": [
    "# Cell is used for grading. Do not remove."
   ]
  },
  {
   "cell_type": "markdown",
   "id": "e3a63e4f-9c76-4bcb-afd6-487517e0eb48",
   "metadata": {
    "deletable": false,
    "editable": false,
    "nbgrader": {
     "cell_type": "markdown",
     "checksum": "f629312714fc64aa587701bdaee391bf",
     "grade": false,
     "grade_id": "cell-caf0fc06dbdd838d",
     "locked": true,
     "schema_version": 3,
     "solution": false,
     "task": false
    }
   },
   "source": [
    "#### Q4.3: What is the maximum number of passengers on a single taxi ride?"
   ]
  },
  {
   "cell_type": "code",
   "execution_count": 28,
   "id": "097d4f3d-8527-46e0-8d66-ea9f7fecef09",
   "metadata": {
    "deletable": false,
    "nbgrader": {
     "cell_type": "code",
     "checksum": "b46a825d7387d2ce6a0f080f4153b424",
     "grade": false,
     "grade_id": "cell-9b9047617df6ebfb",
     "locked": false,
     "schema_version": 3,
     "solution": true,
     "task": false
    }
   },
   "outputs": [
    {
     "data": {
      "text/html": [
       "<div>\n",
       "<style scoped>\n",
       "    .dataframe tbody tr th:only-of-type {\n",
       "        vertical-align: middle;\n",
       "    }\n",
       "\n",
       "    .dataframe tbody tr th {\n",
       "        vertical-align: top;\n",
       "    }\n",
       "\n",
       "    .dataframe thead th {\n",
       "        text-align: right;\n",
       "    }\n",
       "</style>\n",
       "<table border=\"1\" class=\"dataframe\">\n",
       "  <thead>\n",
       "    <tr style=\"text-align: right;\">\n",
       "      <th></th>\n",
       "      <th>max(passenger_count)</th>\n",
       "    </tr>\n",
       "  </thead>\n",
       "  <tbody>\n",
       "    <tr>\n",
       "      <th>0</th>\n",
       "      <td>112.0</td>\n",
       "    </tr>\n",
       "  </tbody>\n",
       "</table>\n",
       "</div>"
      ],
      "text/plain": [
       "   max(passenger_count)\n",
       "0                 112.0"
      ]
     },
     "execution_count": 28,
     "metadata": {},
     "output_type": "execute_result"
    }
   ],
   "source": [
    "# Answer:\n",
    "\n",
    "%sql select max(passenger_count) from '2021_Yellow_Taxi_Trip_Data.csv'"
   ]
  },
  {
   "cell_type": "code",
   "execution_count": null,
   "id": "423b5beb-3a5f-4814-a2f7-f6711d170ba4",
   "metadata": {
    "deletable": false,
    "editable": false,
    "nbgrader": {
     "cell_type": "code",
     "checksum": "b66715eba48345acfbec3beba3673ef2",
     "grade": true,
     "grade_id": "cell-1148da0e3fe58989",
     "locked": true,
     "points": 0,
     "schema_version": 3,
     "solution": false,
     "task": false
    }
   },
   "outputs": [],
   "source": [
    "# Cell is used for grading. Do not remove."
   ]
  },
  {
   "cell_type": "code",
   "execution_count": 35,
   "id": "645d1cb7",
   "metadata": {},
   "outputs": [
    {
     "name": "stderr",
     "output_type": "stream",
     "text": [
      "RuntimeError: If using snippets, you may pass the --with argument explicitly.\n",
      "For more details please refer: https://jupysql.ploomber.io/en/latest/compose.html#with-argument\n",
      "\n",
      "\n",
      "Original error message from DB driver:\n",
      "(duckdb.duckdb.CatalogException) Catalog Error: Table with name csv does not exist!\n",
      "Did you mean \"main.duckdb_views\"?\n",
      "[SQL: PRAGMA table_info('2021_Yellow_Taxi_Trip_Data.csv');]\n",
      "(Background on this error at: https://sqlalche.me/e/14/f405)\n",
      "\n",
      "If you need help solving this issue, send us a message: https://ploomber.io/community\n"
     ]
    }
   ],
   "source": [
    "%sql PRAGMA table_info('2021_Yellow_Taxi_Trip_Data.csv');"
   ]
  },
  {
   "cell_type": "markdown",
   "id": "65c1f3c8-13a4-4e86-8b2e-fa83a96a7884",
   "metadata": {
    "deletable": false,
    "editable": false,
    "nbgrader": {
     "cell_type": "markdown",
     "checksum": "58da4e7126d9d4fb883c34b10f9e1228",
     "grade": false,
     "grade_id": "cell-72b96eae0e2d2130",
     "locked": true,
     "schema_version": 3,
     "solution": false,
     "task": false
    }
   },
   "source": [
    "#### Q4.4: How many entries do not belong in August 2021, i.e. when a trip neither has pickup_datetime nor dropoff_datetime in August 2021?"
   ]
  },
  {
   "cell_type": "code",
   "execution_count": 39,
   "id": "9dcc9ee2-0a73-42d2-98c7-086e0ec06edf",
   "metadata": {
    "deletable": false,
    "nbgrader": {
     "cell_type": "code",
     "checksum": "30cc9b35c2f05813dc887c3ff33b0db1",
     "grade": false,
     "grade_id": "cell-36b840c259fb28cb",
     "locked": false,
     "schema_version": 3,
     "solution": true,
     "task": false
    }
   },
   "outputs": [
    {
     "data": {
      "text/html": [
       "<div>\n",
       "<style scoped>\n",
       "    .dataframe tbody tr th:only-of-type {\n",
       "        vertical-align: middle;\n",
       "    }\n",
       "\n",
       "    .dataframe tbody tr th {\n",
       "        vertical-align: top;\n",
       "    }\n",
       "\n",
       "    .dataframe thead th {\n",
       "        text-align: right;\n",
       "    }\n",
       "</style>\n",
       "<table border=\"1\" class=\"dataframe\">\n",
       "  <thead>\n",
       "    <tr style=\"text-align: right;\">\n",
       "      <th></th>\n",
       "      <th>count_star()</th>\n",
       "    </tr>\n",
       "  </thead>\n",
       "  <tbody>\n",
       "    <tr>\n",
       "      <th>0</th>\n",
       "      <td>476</td>\n",
       "    </tr>\n",
       "  </tbody>\n",
       "</table>\n",
       "</div>"
      ],
      "text/plain": [
       "   count_star()\n",
       "0           476"
      ]
     },
     "execution_count": 39,
     "metadata": {},
     "output_type": "execute_result"
    }
   ],
   "source": [
    "# Answer:\n",
    "%sql select count(*) from '2021_Yellow_Taxi_Trip_Data.csv' where not(CAST(tpep_dropoff_datetime AS DATE) between '2021-08-01' and '2021-08-31') and not(CAST(tpep_pickup_datetime AS DATE) between '2021-08-01' and '2021-08-31') "
   ]
  },
  {
   "cell_type": "code",
   "execution_count": 42,
   "id": "73b0b6b4",
   "metadata": {},
   "outputs": [],
   "source": [
    "#another approach tried"
   ]
  },
  {
   "cell_type": "code",
   "execution_count": 43,
   "id": "facc8b8b",
   "metadata": {},
   "outputs": [
    {
     "data": {
      "text/html": [
       "<div>\n",
       "<style scoped>\n",
       "    .dataframe tbody tr th:only-of-type {\n",
       "        vertical-align: middle;\n",
       "    }\n",
       "\n",
       "    .dataframe tbody tr th {\n",
       "        vertical-align: top;\n",
       "    }\n",
       "\n",
       "    .dataframe thead th {\n",
       "        text-align: right;\n",
       "    }\n",
       "</style>\n",
       "<table border=\"1\" class=\"dataframe\">\n",
       "  <thead>\n",
       "    <tr style=\"text-align: right;\">\n",
       "      <th></th>\n",
       "      <th>count_star()</th>\n",
       "    </tr>\n",
       "  </thead>\n",
       "  <tbody>\n",
       "    <tr>\n",
       "      <th>0</th>\n",
       "      <td>476</td>\n",
       "    </tr>\n",
       "  </tbody>\n",
       "</table>\n",
       "</div>"
      ],
      "text/plain": [
       "   count_star()\n",
       "0           476"
      ]
     },
     "execution_count": 43,
     "metadata": {},
     "output_type": "execute_result"
    }
   ],
   "source": [
    "\n",
    "%%sql \n",
    "SELECT COUNT(*)\n",
    "FROM '2021_Yellow_Taxi_Trip_Data.csv'\n",
    "WHERE \n",
    "date_trunc('month', CAST(tpep_dropoff_datetime AS DATE)) != '2021-08-01'\n",
    "AND date_trunc('month', CAST(tpep_pickup_datetime AS DATE)) != '2021-08-01';\n"
   ]
  },
  {
   "cell_type": "code",
   "execution_count": null,
   "id": "fcd20cdb-81ac-44b1-aba5-615ee181b74e",
   "metadata": {
    "deletable": false,
    "editable": false,
    "nbgrader": {
     "cell_type": "code",
     "checksum": "b38f83a0d712390e7207ce9073798c8b",
     "grade": true,
     "grade_id": "cell-58132598a94ad3dd",
     "locked": true,
     "points": 0,
     "schema_version": 3,
     "solution": false,
     "task": false
    }
   },
   "outputs": [],
   "source": [
    "# Cell is used for grading. Do not remove."
   ]
  },
  {
   "cell_type": "markdown",
   "id": "8d9d30a6-3992-4567-88d0-317f89684ba2",
   "metadata": {
    "deletable": false,
    "editable": false,
    "nbgrader": {
     "cell_type": "markdown",
     "checksum": "5611a9c7be825303c76ea47a8ba9e10a",
     "grade": false,
     "grade_id": "cell-e7a3e0f9ecce708c",
     "locked": true,
     "schema_version": 3,
     "solution": false,
     "task": false
    }
   },
   "source": [
    "#### Q4.5: How many missing values are there in the `passenger_count` column?"
   ]
  },
  {
   "cell_type": "code",
   "execution_count": 25,
   "id": "4312ce13-90e7-4f12-863f-b1a6a7322369",
   "metadata": {
    "deletable": false,
    "nbgrader": {
     "cell_type": "code",
     "checksum": "ebe7b5d888dedb75b64baf6823b8f7c0",
     "grade": false,
     "grade_id": "cell-a7af5d3bf72008f7",
     "locked": false,
     "schema_version": 3,
     "solution": true,
     "task": false
    }
   },
   "outputs": [
    {
     "data": {
      "text/html": [
       "<div>\n",
       "<style scoped>\n",
       "    .dataframe tbody tr th:only-of-type {\n",
       "        vertical-align: middle;\n",
       "    }\n",
       "\n",
       "    .dataframe tbody tr th {\n",
       "        vertical-align: top;\n",
       "    }\n",
       "\n",
       "    .dataframe thead th {\n",
       "        text-align: right;\n",
       "    }\n",
       "</style>\n",
       "<table border=\"1\" class=\"dataframe\">\n",
       "  <thead>\n",
       "    <tr style=\"text-align: right;\">\n",
       "      <th></th>\n",
       "      <th>count_star()</th>\n",
       "    </tr>\n",
       "  </thead>\n",
       "  <tbody>\n",
       "    <tr>\n",
       "      <th>0</th>\n",
       "      <td>208478</td>\n",
       "    </tr>\n",
       "  </tbody>\n",
       "</table>\n",
       "</div>"
      ],
      "text/plain": [
       "   count_star()\n",
       "0        208478"
      ]
     },
     "execution_count": 25,
     "metadata": {},
     "output_type": "execute_result"
    }
   ],
   "source": [
    "# Answer:\n",
    "%sql select count(*) from '2021_Yellow_Taxi_Trip_Data.csv' where passenger_count is NULL or passenger_count = 0\n",
    "# <your code here>"
   ]
  },
  {
   "cell_type": "code",
   "execution_count": null,
   "id": "1ad2e6a9-a582-4b0c-b79d-5aa766e332c1",
   "metadata": {
    "deletable": false,
    "editable": false,
    "nbgrader": {
     "cell_type": "code",
     "checksum": "cfde1d68c6fa234f40a0f9e2dca81c7f",
     "grade": true,
     "grade_id": "cell-89639f5a635ddd05",
     "locked": true,
     "points": 0,
     "schema_version": 3,
     "solution": false,
     "task": false
    }
   },
   "outputs": [],
   "source": [
    "# Cell is used for grading. Do not remove."
   ]
  },
  {
   "cell_type": "markdown",
   "id": "c94dcc73-2886-4c98-9add-29954efa0a54",
   "metadata": {
    "deletable": false,
    "editable": false,
    "nbgrader": {
     "cell_type": "markdown",
     "checksum": "f4b612d5dde42980c9956b5df7faadd2",
     "grade": false,
     "grade_id": "cell-9b3195648eb933ed",
     "locked": true,
     "schema_version": 3,
     "solution": false,
     "task": false
    }
   },
   "source": [
    "#### Q4.6: What are the mean, median, p95, and number of distinct values (NDV) for the number of passengers? Return all of the numbers in just one query."
   ]
  },
  {
   "cell_type": "code",
   "execution_count": 21,
   "id": "6cc559fe-5dee-45c4-b178-d35ffb4d484d",
   "metadata": {
    "deletable": false,
    "nbgrader": {
     "cell_type": "code",
     "checksum": "dabce6d425a88401276654efe49bff25",
     "grade": false,
     "grade_id": "cell-ee3c0a7f87504afd",
     "locked": false,
     "schema_version": 3,
     "solution": true,
     "task": false
    }
   },
   "outputs": [
    {
     "data": {
      "text/html": [
       "<div>\n",
       "<style scoped>\n",
       "    .dataframe tbody tr th:only-of-type {\n",
       "        vertical-align: middle;\n",
       "    }\n",
       "\n",
       "    .dataframe tbody tr th {\n",
       "        vertical-align: top;\n",
       "    }\n",
       "\n",
       "    .dataframe thead th {\n",
       "        text-align: right;\n",
       "    }\n",
       "</style>\n",
       "<table border=\"1\" class=\"dataframe\">\n",
       "  <thead>\n",
       "    <tr style=\"text-align: right;\">\n",
       "      <th></th>\n",
       "      <th>average</th>\n",
       "      <th>median</th>\n",
       "      <th>p95</th>\n",
       "      <th>unique_count</th>\n",
       "    </tr>\n",
       "  </thead>\n",
       "  <tbody>\n",
       "    <tr>\n",
       "      <th>0</th>\n",
       "      <td>1.480158</td>\n",
       "      <td>1.0</td>\n",
       "      <td>3.999602</td>\n",
       "      <td>11</td>\n",
       "    </tr>\n",
       "  </tbody>\n",
       "</table>\n",
       "</div>"
      ],
      "text/plain": [
       "    average  median       p95  unique_count\n",
       "0  1.480158     1.0  3.999602            11"
      ]
     },
     "execution_count": 21,
     "metadata": {},
     "output_type": "execute_result"
    }
   ],
   "source": [
    "    %%sql SELECT AVG(passenger_count) average,MEDIAN(passenger_count) median,APPROX_QUANTILE(passenger_count, 0.95) p95,COUNT(DISTINCT passenger_count) unique_count\n",
    "    FROM read_csv_auto('2021_Yellow_Taxi_Trip_Data.csv') where passenger_count>0"
   ]
  },
  {
   "cell_type": "code",
   "execution_count": null,
   "id": "b383cabd-e38f-499b-b2f6-96aae5db4ed1",
   "metadata": {
    "deletable": false,
    "editable": false,
    "nbgrader": {
     "cell_type": "code",
     "checksum": "57b40e0b5d794ada835636cf017d9ead",
     "grade": true,
     "grade_id": "cell-6cbf3a2036e343f7",
     "locked": true,
     "points": 0,
     "schema_version": 3,
     "solution": false,
     "task": false
    }
   },
   "outputs": [],
   "source": [
    "# Cell is used for grading. Do not remove."
   ]
  },
  {
   "cell_type": "markdown",
   "id": "08aec870-0a04-4852-bbbf-3dc91a74ea04",
   "metadata": {
    "deletable": false,
    "editable": false,
    "nbgrader": {
     "cell_type": "markdown",
     "checksum": "7e3700175ad19334e6f8ceae7c75ecab",
     "grade": false,
     "grade_id": "cell-484b207bdef28a1b",
     "locked": true,
     "schema_version": 3,
     "solution": false,
     "task": false
    }
   },
   "source": [
    "-------\n",
    "# Part 3: More advanced SQL\n",
    "\n",
    "With SQL, we can do some more advanced analytics as well. This exercise will give you the chance to refresh and brush up your SQL skills.\n",
    "\n",
    "The following tasks require more features that SQL provides, e.g. joins, aggregations, ..."
   ]
  },
  {
   "cell_type": "markdown",
   "id": "94ba80ac-16d5-430e-ac17-be4e05c57631",
   "metadata": {
    "deletable": false,
    "editable": false,
    "nbgrader": {
     "cell_type": "markdown",
     "checksum": "02943617e9b554258ffc3809f330705c",
     "grade": false,
     "grade_id": "cell-863447bd41c2a020",
     "locked": true,
     "schema_version": 3,
     "solution": false,
     "task": false
    }
   },
   "source": [
    "#### Q5.1: What was the day when the most money was earned by drivers?\n",
    "At what day in August 2021 was the accumulated money that was spent by customers the highest?\n",
    "\n",
    "_Note: Think about whether pickup or dropoff time should be used._"
   ]
  },
  {
   "cell_type": "code",
   "execution_count": 12,
   "id": "e9c2b933-305c-4f02-b8a6-92039e8c98f4",
   "metadata": {
    "deletable": false,
    "nbgrader": {
     "cell_type": "code",
     "checksum": "38355f6433fec65c7a5a36b63bb49f8e",
     "grade": false,
     "grade_id": "cell-eb5590ab33e51e08",
     "locked": false,
     "schema_version": 3,
     "solution": true,
     "task": false
    }
   },
   "outputs": [
    {
     "data": {
      "text/html": [
       "<div>\n",
       "<style scoped>\n",
       "    .dataframe tbody tr th:only-of-type {\n",
       "        vertical-align: middle;\n",
       "    }\n",
       "\n",
       "    .dataframe tbody tr th {\n",
       "        vertical-align: top;\n",
       "    }\n",
       "\n",
       "    .dataframe thead th {\n",
       "        text-align: right;\n",
       "    }\n",
       "</style>\n",
       "<table border=\"1\" class=\"dataframe\">\n",
       "  <thead>\n",
       "    <tr style=\"text-align: right;\">\n",
       "      <th></th>\n",
       "      <th>dropoff_date</th>\n",
       "      <th>total_amount</th>\n",
       "    </tr>\n",
       "  </thead>\n",
       "  <tbody>\n",
       "    <tr>\n",
       "      <th>0</th>\n",
       "      <td>2021-08-20</td>\n",
       "      <td>2.025402e+06</td>\n",
       "    </tr>\n",
       "  </tbody>\n",
       "</table>\n",
       "</div>"
      ],
      "text/plain": [
       "  dropoff_date  total_amount\n",
       "0   2021-08-20  2.025402e+06"
      ]
     },
     "execution_count": 12,
     "metadata": {},
     "output_type": "execute_result"
    }
   ],
   "source": [
    "%%sql\n",
    "SELECT CAST(tpep_dropoff_datetime AS DATE) AS dropoff_date,SUM(total_amount,Fare_amount,) AS total_amount\n",
    "FROM '2021_Yellow_Taxi_Trip_Data.csv'\n",
    "GROUP BY dropoff_date\n",
    "ORDER BY total_amount DESC\n",
    "LIMIT 1;\n"
   ]
  },
  {
   "cell_type": "code",
   "execution_count": null,
   "id": "b421bf3d-5a20-46f2-9424-90f7cf1e77e9",
   "metadata": {
    "deletable": false,
    "editable": false,
    "nbgrader": {
     "cell_type": "code",
     "checksum": "03721dfd06da2b986c9ce722d9db720a",
     "grade": true,
     "grade_id": "cell-7018fcba7f34af58",
     "locked": true,
     "points": 0,
     "schema_version": 3,
     "solution": false,
     "task": false
    }
   },
   "outputs": [],
   "source": [
    "# Cell is used for grading. Do not remove."
   ]
  },
  {
   "cell_type": "markdown",
   "id": "fa160611-c1d7-455d-bd30-61ee20013f64",
   "metadata": {},
   "source": [
    "#### Q5.2: What are the most popular pickup locations in the morning (8am - 10am) and in the evening (5pm-7pm)"
   ]
  },
  {
   "cell_type": "code",
   "execution_count": 97,
   "id": "8496fa9d-318d-4ca0-ad03-7de7cbf54834",
   "metadata": {
    "deletable": false,
    "nbgrader": {
     "cell_type": "code",
     "checksum": "77cfb83cdda3cd13121ee9576cc89d38",
     "grade": false,
     "grade_id": "cell-d36cfe06fc75a806",
     "locked": false,
     "schema_version": 3,
     "solution": true,
     "task": false
    }
   },
   "outputs": [
    {
     "data": {
      "text/html": [
       "<div>\n",
       "<style scoped>\n",
       "    .dataframe tbody tr th:only-of-type {\n",
       "        vertical-align: middle;\n",
       "    }\n",
       "\n",
       "    .dataframe tbody tr th {\n",
       "        vertical-align: top;\n",
       "    }\n",
       "\n",
       "    .dataframe thead th {\n",
       "        text-align: right;\n",
       "    }\n",
       "</style>\n",
       "<table border=\"1\" class=\"dataframe\">\n",
       "  <thead>\n",
       "    <tr style=\"text-align: right;\">\n",
       "      <th></th>\n",
       "      <th>pickups</th>\n",
       "      <th>PULocationID</th>\n",
       "      <th>day_time</th>\n",
       "    </tr>\n",
       "  </thead>\n",
       "  <tbody>\n",
       "    <tr>\n",
       "      <th>0</th>\n",
       "      <td>18317</td>\n",
       "      <td>161</td>\n",
       "      <td>evening</td>\n",
       "    </tr>\n",
       "    <tr>\n",
       "      <th>1</th>\n",
       "      <td>17943</td>\n",
       "      <td>237</td>\n",
       "      <td>evening</td>\n",
       "    </tr>\n",
       "    <tr>\n",
       "      <th>2</th>\n",
       "      <td>16124</td>\n",
       "      <td>132</td>\n",
       "      <td>evening</td>\n",
       "    </tr>\n",
       "    <tr>\n",
       "      <th>3</th>\n",
       "      <td>13980</td>\n",
       "      <td>162</td>\n",
       "      <td>evening</td>\n",
       "    </tr>\n",
       "    <tr>\n",
       "      <th>4</th>\n",
       "      <td>13971</td>\n",
       "      <td>236</td>\n",
       "      <td>evening</td>\n",
       "    </tr>\n",
       "    <tr>\n",
       "      <th>5</th>\n",
       "      <td>13821</td>\n",
       "      <td>170</td>\n",
       "      <td>evening</td>\n",
       "    </tr>\n",
       "    <tr>\n",
       "      <th>6</th>\n",
       "      <td>12999</td>\n",
       "      <td>186</td>\n",
       "      <td>evening</td>\n",
       "    </tr>\n",
       "    <tr>\n",
       "      <th>7</th>\n",
       "      <td>11992</td>\n",
       "      <td>163</td>\n",
       "      <td>evening</td>\n",
       "    </tr>\n",
       "    <tr>\n",
       "      <th>8</th>\n",
       "      <td>11610</td>\n",
       "      <td>234</td>\n",
       "      <td>evening</td>\n",
       "    </tr>\n",
       "    <tr>\n",
       "      <th>9</th>\n",
       "      <td>11571</td>\n",
       "      <td>142</td>\n",
       "      <td>evening</td>\n",
       "    </tr>\n",
       "    <tr>\n",
       "      <th>10</th>\n",
       "      <td>11205</td>\n",
       "      <td>236</td>\n",
       "      <td>morning</td>\n",
       "    </tr>\n",
       "    <tr>\n",
       "      <th>11</th>\n",
       "      <td>10344</td>\n",
       "      <td>186</td>\n",
       "      <td>morning</td>\n",
       "    </tr>\n",
       "    <tr>\n",
       "      <th>12</th>\n",
       "      <td>10057</td>\n",
       "      <td>237</td>\n",
       "      <td>morning</td>\n",
       "    </tr>\n",
       "    <tr>\n",
       "      <th>13</th>\n",
       "      <td>7692</td>\n",
       "      <td>132</td>\n",
       "      <td>morning</td>\n",
       "    </tr>\n",
       "    <tr>\n",
       "      <th>14</th>\n",
       "      <td>7411</td>\n",
       "      <td>170</td>\n",
       "      <td>morning</td>\n",
       "    </tr>\n",
       "    <tr>\n",
       "      <th>15</th>\n",
       "      <td>7119</td>\n",
       "      <td>162</td>\n",
       "      <td>morning</td>\n",
       "    </tr>\n",
       "    <tr>\n",
       "      <th>16</th>\n",
       "      <td>6892</td>\n",
       "      <td>141</td>\n",
       "      <td>morning</td>\n",
       "    </tr>\n",
       "    <tr>\n",
       "      <th>17</th>\n",
       "      <td>6675</td>\n",
       "      <td>140</td>\n",
       "      <td>morning</td>\n",
       "    </tr>\n",
       "    <tr>\n",
       "      <th>18</th>\n",
       "      <td>6571</td>\n",
       "      <td>48</td>\n",
       "      <td>morning</td>\n",
       "    </tr>\n",
       "    <tr>\n",
       "      <th>19</th>\n",
       "      <td>6276</td>\n",
       "      <td>239</td>\n",
       "      <td>morning</td>\n",
       "    </tr>\n",
       "  </tbody>\n",
       "</table>\n",
       "</div>"
      ],
      "text/plain": [
       "    pickups  PULocationID day_time\n",
       "0     18317           161  evening\n",
       "1     17943           237  evening\n",
       "2     16124           132  evening\n",
       "3     13980           162  evening\n",
       "4     13971           236  evening\n",
       "5     13821           170  evening\n",
       "6     12999           186  evening\n",
       "7     11992           163  evening\n",
       "8     11610           234  evening\n",
       "9     11571           142  evening\n",
       "10    11205           236  morning\n",
       "11    10344           186  morning\n",
       "12    10057           237  morning\n",
       "13     7692           132  morning\n",
       "14     7411           170  morning\n",
       "15     7119           162  morning\n",
       "16     6892           141  morning\n",
       "17     6675           140  morning\n",
       "18     6571            48  morning\n",
       "19     6276           239  morning"
      ]
     },
     "execution_count": 97,
     "metadata": {},
     "output_type": "execute_result"
    }
   ],
   "source": [
    "%%sql\n",
    "WITH morning_ranks AS (\n",
    "    SELECT \n",
    "        COUNT(*) AS pickups, \n",
    "        PULocationID, \n",
    "        'morning' AS day_time,\n",
    "        ROW_NUMBER() OVER (ORDER BY COUNT(*) DESC) AS rank\n",
    "    FROM '2021_Yellow_Taxi_Trip_Data.csv' \n",
    "    WHERE CAST(tpep_pickup_datetime AS time) >= '08:00:00' \n",
    "          AND CAST(tpep_pickup_datetime AS time) <= '10:00:00' \n",
    "          AND passenger_count > 0 \n",
    "    GROUP BY PULocationID \n",
    "),\n",
    "evening_ranks AS (\n",
    "    SELECT \n",
    "        COUNT(*) AS pickups, \n",
    "        PULocationID, \n",
    "        'evening' AS day_time,\n",
    "        ROW_NUMBER() OVER (ORDER BY COUNT(*) DESC) AS rank\n",
    "    FROM '2021_Yellow_Taxi_Trip_Data.csv' \n",
    "    WHERE CAST(tpep_pickup_datetime AS time) >= '17:00:00' \n",
    "          AND CAST(tpep_pickup_datetime AS time) <= '19:00:00' \n",
    "          AND passenger_count > 0 \n",
    "    GROUP BY PULocationID \n",
    ")\n",
    "\n",
    "SELECT pickups, PULocationID, day_time\n",
    "FROM morning_ranks\n",
    "WHERE rank <= 10\n",
    "\n",
    "UNION ALL\n",
    "\n",
    "SELECT pickups, PULocationID, day_time\n",
    "FROM evening_ranks\n",
    "WHERE rank <= 10\n",
    "\n",
    "ORDER BY day_time, pickups DESC;\n"
   ]
  },
  {
   "cell_type": "code",
   "execution_count": null,
   "id": "3e403a19-10aa-4078-9c60-1b5b4fc17df4",
   "metadata": {
    "deletable": false,
    "editable": false,
    "nbgrader": {
     "cell_type": "code",
     "checksum": "8f4081f3c5f48ec55937e470ea73acdf",
     "grade": true,
     "grade_id": "cell-4a2497eb9a1dfab2",
     "locked": true,
     "points": 0,
     "schema_version": 3,
     "solution": false,
     "task": false
    }
   },
   "outputs": [],
   "source": [
    "# Cell is used for grading. Do not remove."
   ]
  },
  {
   "cell_type": "code",
   "execution_count": 8,
   "id": "a70f6a2d",
   "metadata": {},
   "outputs": [
    {
     "data": {
      "text/html": [
       "<div>\n",
       "<style scoped>\n",
       "    .dataframe tbody tr th:only-of-type {\n",
       "        vertical-align: middle;\n",
       "    }\n",
       "\n",
       "    .dataframe tbody tr th {\n",
       "        vertical-align: top;\n",
       "    }\n",
       "\n",
       "    .dataframe thead th {\n",
       "        text-align: right;\n",
       "    }\n",
       "</style>\n",
       "<table border=\"1\" class=\"dataframe\">\n",
       "  <thead>\n",
       "    <tr style=\"text-align: right;\">\n",
       "      <th></th>\n",
       "      <th>to_work_time</th>\n",
       "      <th>tpep_dropoff_datetime</th>\n",
       "      <th>home_location</th>\n",
       "      <th>work_location</th>\n",
       "      <th>passenger_count</th>\n",
       "    </tr>\n",
       "  </thead>\n",
       "  <tbody>\n",
       "    <tr>\n",
       "      <th>0</th>\n",
       "      <td>2021-08-11 19:32:41</td>\n",
       "      <td>2021-08-11 20:19:02</td>\n",
       "      <td>229</td>\n",
       "      <td>265</td>\n",
       "      <td>1.0</td>\n",
       "    </tr>\n",
       "    <tr>\n",
       "      <th>1</th>\n",
       "      <td>2021-08-11 19:34:37</td>\n",
       "      <td>2021-08-11 20:07:47</td>\n",
       "      <td>132</td>\n",
       "      <td>265</td>\n",
       "      <td>1.0</td>\n",
       "    </tr>\n",
       "    <tr>\n",
       "      <th>2</th>\n",
       "      <td>2021-08-11 19:09:00</td>\n",
       "      <td>2021-08-11 19:43:45</td>\n",
       "      <td>138</td>\n",
       "      <td>265</td>\n",
       "      <td>2.0</td>\n",
       "    </tr>\n",
       "    <tr>\n",
       "      <th>3</th>\n",
       "      <td>2021-08-11 19:05:56</td>\n",
       "      <td>2021-08-11 19:26:50</td>\n",
       "      <td>132</td>\n",
       "      <td>265</td>\n",
       "      <td>5.0</td>\n",
       "    </tr>\n",
       "    <tr>\n",
       "      <th>4</th>\n",
       "      <td>2021-08-11 19:58:38</td>\n",
       "      <td>2021-08-11 20:17:27</td>\n",
       "      <td>203</td>\n",
       "      <td>265</td>\n",
       "      <td>1.0</td>\n",
       "    </tr>\n",
       "    <tr>\n",
       "      <th>...</th>\n",
       "      <td>...</td>\n",
       "      <td>...</td>\n",
       "      <td>...</td>\n",
       "      <td>...</td>\n",
       "      <td>...</td>\n",
       "    </tr>\n",
       "    <tr>\n",
       "      <th>9497</th>\n",
       "      <td>2021-08-25 10:37:50</td>\n",
       "      <td>2021-08-25 11:25:16</td>\n",
       "      <td>75</td>\n",
       "      <td>265</td>\n",
       "      <td>NaN</td>\n",
       "    </tr>\n",
       "    <tr>\n",
       "      <th>9498</th>\n",
       "      <td>2021-08-25 11:20:00</td>\n",
       "      <td>2021-08-25 12:00:00</td>\n",
       "      <td>32</td>\n",
       "      <td>265</td>\n",
       "      <td>NaN</td>\n",
       "    </tr>\n",
       "    <tr>\n",
       "      <th>9499</th>\n",
       "      <td>2021-08-25 11:49:55</td>\n",
       "      <td>2021-08-25 12:12:38</td>\n",
       "      <td>48</td>\n",
       "      <td>265</td>\n",
       "      <td>NaN</td>\n",
       "    </tr>\n",
       "    <tr>\n",
       "      <th>9500</th>\n",
       "      <td>2021-08-25 12:40:42</td>\n",
       "      <td>2021-08-25 13:17:57</td>\n",
       "      <td>38</td>\n",
       "      <td>265</td>\n",
       "      <td>NaN</td>\n",
       "    </tr>\n",
       "    <tr>\n",
       "      <th>9501</th>\n",
       "      <td>2021-08-25 12:26:00</td>\n",
       "      <td>2021-08-25 13:01:00</td>\n",
       "      <td>262</td>\n",
       "      <td>265</td>\n",
       "      <td>NaN</td>\n",
       "    </tr>\n",
       "  </tbody>\n",
       "</table>\n",
       "<p>9502 rows × 5 columns</p>\n",
       "</div>"
      ],
      "text/plain": [
       "            to_work_time tpep_dropoff_datetime  home_location  work_location  \\\n",
       "0    2021-08-11 19:32:41   2021-08-11 20:19:02            229            265   \n",
       "1    2021-08-11 19:34:37   2021-08-11 20:07:47            132            265   \n",
       "2    2021-08-11 19:09:00   2021-08-11 19:43:45            138            265   \n",
       "3    2021-08-11 19:05:56   2021-08-11 19:26:50            132            265   \n",
       "4    2021-08-11 19:58:38   2021-08-11 20:17:27            203            265   \n",
       "...                  ...                   ...            ...            ...   \n",
       "9497 2021-08-25 10:37:50   2021-08-25 11:25:16             75            265   \n",
       "9498 2021-08-25 11:20:00   2021-08-25 12:00:00             32            265   \n",
       "9499 2021-08-25 11:49:55   2021-08-25 12:12:38             48            265   \n",
       "9500 2021-08-25 12:40:42   2021-08-25 13:17:57             38            265   \n",
       "9501 2021-08-25 12:26:00   2021-08-25 13:01:00            262            265   \n",
       "\n",
       "      passenger_count  \n",
       "0                 1.0  \n",
       "1                 1.0  \n",
       "2                 2.0  \n",
       "3                 5.0  \n",
       "4                 1.0  \n",
       "...               ...  \n",
       "9497              NaN  \n",
       "9498              NaN  \n",
       "9499              NaN  \n",
       "9500              NaN  \n",
       "9501              NaN  \n",
       "\n",
       "[9502 rows x 5 columns]"
      ]
     },
     "execution_count": 8,
     "metadata": {},
     "output_type": "execute_result"
    }
   ],
   "source": [
    "\n",
    "%%sql \n",
    "SELECT\n",
    "    tpep_pickup_datetime AS to_work_time,\n",
    "    tpep_dropoff_datetime,\n",
    "    PULocationID AS home_location,\n",
    "    DOLocationID AS work_location,\n",
    "    passenger_count\n",
    "FROM\n",
    "    '2021_Yellow_Taxi_Trip_Data.csv'\n",
    "WHERE\n",
    "    DOLocationID IN (SELECT DOLocationID FROM '2021_Yellow_Taxi_Trip_Data.csv' ORDER BY DOLocationID DESC LIMIT 1)\n",
    "    AND (tpep_dropoff_datetime - tpep_pickup_datetime) < INTERVAL '60 minutes';\n"
   ]
  },
  {
   "cell_type": "markdown",
   "id": "54464ed3-b8ea-4a33-b755-bbe9b55333bd",
   "metadata": {
    "deletable": false,
    "editable": false,
    "nbgrader": {
     "cell_type": "markdown",
     "checksum": "682f484adf164bfe82e11192239df3ac",
     "grade": false,
     "grade_id": "cell-46fb0cd1579e395d",
     "locked": true,
     "schema_version": 3,
     "solution": false,
     "task": false
    }
   },
   "source": [
    "#### Q5.3: Which trips might be trips to and from work? (challenging)\n",
    "Figure out which pair of trips might be people taking a taxi to and from work. The output should include all pairs of potentially matching trips. Specifically, this might mean that one \"trip to work\" might be matched with multiple \"trip from work\".\n",
    "\n",
    "_Hint: This requires a huge join. Make reasonable assumptions, e.g. trips should be shorter than 60 mins, to reduce the amount of data that will be joined and potentially introduce some preparational steps to speed up processing. For the latter, have a look at `with` expressions in SQL!_"
   ]
  },
  {
   "cell_type": "code",
   "execution_count": 19,
   "id": "71042c72-7b55-4415-8e73-4a675a1eeee6",
   "metadata": {
    "deletable": false,
    "nbgrader": {
     "cell_type": "code",
     "checksum": "c89f11aa055c581d5087557743054fe8",
     "grade": true,
     "grade_id": "cell-cd315f9c1e4574b3",
     "locked": false,
     "points": 0,
     "schema_version": 3,
     "solution": true,
     "task": false
    }
   },
   "outputs": [
    {
     "data": {
      "application/vnd.jupyter.widget-view+json": {
       "model_id": "3295139455564bfb8dbcfb8524a40564",
       "version_major": 2,
       "version_minor": 0
      },
      "text/plain": [
       "FloatProgress(value=0.0, layout=Layout(width='auto'), style=ProgressStyle(bar_color='black'))"
      ]
     },
     "metadata": {},
     "output_type": "display_data"
    },
    {
     "data": {
      "text/html": [
       "<div>\n",
       "<style scoped>\n",
       "    .dataframe tbody tr th:only-of-type {\n",
       "        vertical-align: middle;\n",
       "    }\n",
       "\n",
       "    .dataframe tbody tr th {\n",
       "        vertical-align: top;\n",
       "    }\n",
       "\n",
       "    .dataframe thead th {\n",
       "        text-align: right;\n",
       "    }\n",
       "</style>\n",
       "<table border=\"1\" class=\"dataframe\">\n",
       "  <thead>\n",
       "    <tr style=\"text-align: right;\">\n",
       "      <th></th>\n",
       "      <th>to_work_time</th>\n",
       "      <th>from_work_time</th>\n",
       "      <th>home_location</th>\n",
       "      <th>work_location</th>\n",
       "      <th>passenger_count</th>\n",
       "    </tr>\n",
       "  </thead>\n",
       "  <tbody>\n",
       "    <tr>\n",
       "      <th>0</th>\n",
       "      <td>2021-07-24 10:23:25</td>\n",
       "      <td>2021-07-24 18:19:30</td>\n",
       "      <td>186</td>\n",
       "      <td>232</td>\n",
       "      <td>1.0</td>\n",
       "    </tr>\n",
       "    <tr>\n",
       "      <th>1</th>\n",
       "      <td>2021-07-27 09:45:55</td>\n",
       "      <td>2021-07-27 16:07:59</td>\n",
       "      <td>237</td>\n",
       "      <td>161</td>\n",
       "      <td>1.0</td>\n",
       "    </tr>\n",
       "    <tr>\n",
       "      <th>2</th>\n",
       "      <td>2021-08-01 06:00:00</td>\n",
       "      <td>2021-08-01 19:43:03</td>\n",
       "      <td>186</td>\n",
       "      <td>229</td>\n",
       "      <td>1.0</td>\n",
       "    </tr>\n",
       "    <tr>\n",
       "      <th>3</th>\n",
       "      <td>2021-08-01 06:00:00</td>\n",
       "      <td>2021-08-01 19:23:20</td>\n",
       "      <td>186</td>\n",
       "      <td>229</td>\n",
       "      <td>1.0</td>\n",
       "    </tr>\n",
       "    <tr>\n",
       "      <th>4</th>\n",
       "      <td>2021-08-01 06:00:00</td>\n",
       "      <td>2021-08-01 19:24:49</td>\n",
       "      <td>186</td>\n",
       "      <td>229</td>\n",
       "      <td>1.0</td>\n",
       "    </tr>\n",
       "    <tr>\n",
       "      <th>...</th>\n",
       "      <td>...</td>\n",
       "      <td>...</td>\n",
       "      <td>...</td>\n",
       "      <td>...</td>\n",
       "      <td>...</td>\n",
       "    </tr>\n",
       "    <tr>\n",
       "      <th>5257685</th>\n",
       "      <td>2021-08-31 10:59:59</td>\n",
       "      <td>2021-08-31 17:23:24</td>\n",
       "      <td>263</td>\n",
       "      <td>262</td>\n",
       "      <td>1.0</td>\n",
       "    </tr>\n",
       "    <tr>\n",
       "      <th>5257686</th>\n",
       "      <td>2021-08-31 10:59:59</td>\n",
       "      <td>2021-08-31 16:14:01</td>\n",
       "      <td>263</td>\n",
       "      <td>262</td>\n",
       "      <td>1.0</td>\n",
       "    </tr>\n",
       "    <tr>\n",
       "      <th>5257687</th>\n",
       "      <td>2021-08-31 10:59:59</td>\n",
       "      <td>2021-08-31 16:39:48</td>\n",
       "      <td>263</td>\n",
       "      <td>262</td>\n",
       "      <td>1.0</td>\n",
       "    </tr>\n",
       "    <tr>\n",
       "      <th>5257688</th>\n",
       "      <td>2021-08-31 10:59:59</td>\n",
       "      <td>2021-08-31 16:33:14</td>\n",
       "      <td>263</td>\n",
       "      <td>262</td>\n",
       "      <td>1.0</td>\n",
       "    </tr>\n",
       "    <tr>\n",
       "      <th>5257689</th>\n",
       "      <td>2021-08-31 10:59:59</td>\n",
       "      <td>2021-08-31 16:19:54</td>\n",
       "      <td>263</td>\n",
       "      <td>262</td>\n",
       "      <td>1.0</td>\n",
       "    </tr>\n",
       "  </tbody>\n",
       "</table>\n",
       "<p>5257690 rows × 5 columns</p>\n",
       "</div>"
      ],
      "text/plain": [
       "               to_work_time      from_work_time  home_location  work_location  \\\n",
       "0       2021-07-24 10:23:25 2021-07-24 18:19:30            186            232   \n",
       "1       2021-07-27 09:45:55 2021-07-27 16:07:59            237            161   \n",
       "2       2021-08-01 06:00:00 2021-08-01 19:43:03            186            229   \n",
       "3       2021-08-01 06:00:00 2021-08-01 19:23:20            186            229   \n",
       "4       2021-08-01 06:00:00 2021-08-01 19:24:49            186            229   \n",
       "...                     ...                 ...            ...            ...   \n",
       "5257685 2021-08-31 10:59:59 2021-08-31 17:23:24            263            262   \n",
       "5257686 2021-08-31 10:59:59 2021-08-31 16:14:01            263            262   \n",
       "5257687 2021-08-31 10:59:59 2021-08-31 16:39:48            263            262   \n",
       "5257688 2021-08-31 10:59:59 2021-08-31 16:33:14            263            262   \n",
       "5257689 2021-08-31 10:59:59 2021-08-31 16:19:54            263            262   \n",
       "\n",
       "         passenger_count  \n",
       "0                    1.0  \n",
       "1                    1.0  \n",
       "2                    1.0  \n",
       "3                    1.0  \n",
       "4                    1.0  \n",
       "...                  ...  \n",
       "5257685              1.0  \n",
       "5257686              1.0  \n",
       "5257687              1.0  \n",
       "5257688              1.0  \n",
       "5257689              1.0  \n",
       "\n",
       "[5257690 rows x 5 columns]"
      ]
     },
     "execution_count": 19,
     "metadata": {},
     "output_type": "execute_result"
    }
   ],
   "source": [
    "%%sql\n",
    "WITH to_work AS (\n",
    "    SELECT\n",
    "    tpep_pickup_datetime AS to_work_time,\n",
    "    tpep_dropoff_datetime,\n",
    "    PULocationID AS home_location,\n",
    "    DOLocationID AS work_location,\n",
    "    passenger_count\n",
    "FROM\n",
    "    '2021_Yellow_Taxi_Trip_Data.csv'\n",
    "WHERE\n",
    "    HOUR(tpep_pickup_datetime) BETWEEN 6 AND 10\n",
    "    AND (tpep_dropoff_datetime - tpep_pickup_datetime) < INTERVAL '60 minutes'\n",
    "),\n",
    "from_work AS (\n",
    "    SELECT\n",
    "        tpep_pickup_datetime AS from_work_time,\n",
    "        tpep_dropoff_datetime,\n",
    "        PULocationID AS work_location,\n",
    "        DOLocationID AS home_location,\n",
    "        passenger_count\n",
    "    FROM\n",
    "        '2021_Yellow_Taxi_Trip_Data.csv'\n",
    "    WHERE\n",
    "        \n",
    "        HOUR(tpep_pickup_datetime) BETWEEN 16 AND 19\n",
    "        and \n",
    "        AND (tpep_dropoff_datetime - tpep_pickup_datetime) < INTERVAL '60 minutes'\n",
    ")\n",
    "\n",
    "SELECT\n",
    "    to_work.to_work_time,\n",
    "    from_work.from_work_time,\n",
    "    to_work.home_location,\n",
    "    to_work.work_location,\n",
    "    to_work.passenger_count\n",
    "FROM\n",
    "    to_work\n",
    "JOIN\n",
    "    from_work\n",
    "ON\n",
    "    to_work.work_location = from_work.work_location\n",
    "    AND to_work.home_location = from_work.home_location\n",
    "    AND to_work.passenger_count = from_work.passenger_count\n",
    "    AND CAST(to_work.to_work_time AS DATE) = CAST(from_work.from_work_time AS DATE) \n",
    "    AND from_work.from_work_time > to_work.tpep_dropoff_datetime \n",
    "ORDER BY\n",
    "    to_work.to_work_time;\n"
   ]
  },
  {
   "cell_type": "markdown",
   "id": "9e5a2759-1f10-4a26-a4ed-3f7a4f10f884",
   "metadata": {},
   "source": [
    "## Feedback (voluntary)\n",
    "\n",
    "How did you like this exercise? What could be improved?\n",
    "\n",
    "Answer:\n",
    "\n",
    "...\n",
    "\n",
    "Further, I feel like:\n",
    " - [ ] the exercise was too easy\n",
    " - [x] the exercise was too hard\n",
    " - [ ] the exercise was just right\n",
    " - [ ] no answer\n"
   ]
  },
  {
   "cell_type": "code",
   "execution_count": null,
   "id": "60ec67c5",
   "metadata": {},
   "outputs": [],
   "source": []
  }
 ],
 "metadata": {
  "kernelspec": {
   "display_name": "Python 3 (ipykernel)",
   "language": "python",
   "name": "python3"
  },
  "language_info": {
   "codemirror_mode": {
    "name": "ipython",
    "version": 3
   },
   "file_extension": ".py",
   "mimetype": "text/x-python",
   "name": "python",
   "nbconvert_exporter": "python",
   "pygments_lexer": "ipython3",
   "version": "3.11.5"
  }
 },
 "nbformat": 4,
 "nbformat_minor": 5
}
